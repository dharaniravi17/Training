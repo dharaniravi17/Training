{
 "cells": [
  {
   "cell_type": "code",
   "execution_count": 1,
   "id": "55877abc-a355-46b3-a1e0-c4a8ca32c2e6",
   "metadata": {},
   "outputs": [
    {
     "name": "stderr",
     "output_type": "stream",
     "text": [
      "C:\\Users\\Dharani Ravi\\anaconda3\\Lib\\site-packages\\xgboost\\core.py:158: UserWarning: [12:44:12] WARNING: C:\\buildkite-agent\\builds\\buildkite-windows-cpu-autoscaling-group-i-08cbc0333d8d4aae1-1\\xgboost\\xgboost-ci-windows\\src\\learner.cc:740: \n",
      "Parameters: { \"use_label_encoder\" } are not used.\n",
      "\n",
      "  warnings.warn(smsg, UserWarning)\n"
     ]
    },
    {
     "name": "stdout",
     "output_type": "stream",
     "text": [
      " Custom Ensemble Accuracy: 0.9854\n"
     ]
    },
    {
     "name": "stderr",
     "output_type": "stream",
     "text": [
      "C:\\Users\\Dharani Ravi\\anaconda3\\Lib\\site-packages\\xgboost\\core.py:158: UserWarning: [12:44:13] WARNING: C:\\buildkite-agent\\builds\\buildkite-windows-cpu-autoscaling-group-i-08cbc0333d8d4aae1-1\\xgboost\\xgboost-ci-windows\\src\\learner.cc:740: \n",
      "Parameters: { \"use_label_encoder\" } are not used.\n",
      "\n",
      "  warnings.warn(smsg, UserWarning)\n"
     ]
    },
    {
     "name": "stdout",
     "output_type": "stream",
     "text": [
      " VotingClassifier Accuracy: 0.9854\n",
      "\n",
      " Custom Ensemble Analysis:\n",
      "- Both classifiers' probabilities were averaged for a final prediction.\n",
      "- Custom ensemble gives you flexibility (e.g., weighted average, stacking).\n",
      "- VotingClassifier is simpler and supports ensemble easily.\n",
      "- If classifiers are very different, custom ensembles might outperform VotingClassifier.\n"
     ]
    }
   ],
   "source": [
    "import pandas as pd\n",
    "import numpy as np\n",
    "from sklearn.model_selection import train_test_split\n",
    "from sklearn.preprocessing import StandardScaler\n",
    "from sklearn.ensemble import RandomForestClassifier, VotingClassifier\n",
    "from xgboost import XGBClassifier\n",
    "from sklearn.metrics import accuracy_score\n",
    "\n",
    "df = pd.read_csv(\"D:\\\\heart\\\\heart.csv\")\n",
    "X = df.drop('target', axis=1)\n",
    "y = df['target']\n",
    "\n",
    "scaler = StandardScaler()\n",
    "X_scaled = scaler.fit_transform(X)\n",
    "X_train, X_test, y_train, y_test = train_test_split(X_scaled, y, test_size=0.2, random_state=42)\n",
    "\n",
    "rf_model = RandomForestClassifier(random_state=42)\n",
    "xgb_model = XGBClassifier(use_label_encoder=False, eval_metric='logloss', random_state=42)\n",
    "rf_model.fit(X_train, y_train)\n",
    "xgb_model.fit(X_train, y_train)\n",
    "rf_probs = rf_model.predict_proba(X_test)[:, 1]\n",
    "xgb_probs = xgb_model.predict_proba(X_test)[:, 1]\n",
    "\n",
    "avg_probs = (rf_probs + xgb_probs) / 2\n",
    "y_pred_custom = (avg_probs >= 0.5).astype(int)\n",
    "custom_accuracy = accuracy_score(y_test, y_pred_custom)\n",
    "print(f\" Custom Ensemble Accuracy: {custom_accuracy:.4f}\")\n",
    "voting_clf = VotingClassifier(estimators=[\n",
    "    ('rf', rf_model),\n",
    "    ('xgb', xgb_model)\n",
    "], voting='soft')\n",
    "\n",
    "voting_clf.fit(X_train, y_train)\n",
    "voting_pred = voting_clf.predict(X_test)\n",
    "voting_accuracy = accuracy_score(y_test, voting_pred)\n",
    "print(f\" VotingClassifier Accuracy: {voting_accuracy:.4f}\")\n",
    "\n",
    "print(\"\\n Custom Ensemble Analysis:\")\n",
    "print(\"- Both classifiers' probabilities were averaged for a final prediction.\")\n",
    "print(\"- Custom ensemble gives you flexibility (e.g., weighted average, stacking).\")\n",
    "print(\"- VotingClassifier is simpler and supports ensemble easily.\")\n",
    "print(\"- If classifiers are very different, custom ensembles might outperform VotingClassifier.\")\n"
   ]
  },
  {
   "cell_type": "code",
   "execution_count": null,
   "id": "c4c5770a-8b86-4b0f-8327-97c3fe1fad2f",
   "metadata": {},
   "outputs": [],
   "source": []
  }
 ],
 "metadata": {
  "kernelspec": {
   "display_name": "Python 3 (ipykernel)",
   "language": "python",
   "name": "python3"
  },
  "language_info": {
   "codemirror_mode": {
    "name": "ipython",
    "version": 3
   },
   "file_extension": ".py",
   "mimetype": "text/x-python",
   "name": "python",
   "nbconvert_exporter": "python",
   "pygments_lexer": "ipython3",
   "version": "3.12.4"
  }
 },
 "nbformat": 4,
 "nbformat_minor": 5
}
