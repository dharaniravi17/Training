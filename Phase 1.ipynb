{
 "cells": [
  {
   "cell_type": "code",
   "execution_count": 1,
   "id": "a6cad41a-1853-4fc7-9f9c-854e06d47bc1",
   "metadata": {},
   "outputs": [],
   "source": [
    "#Level 1"
   ]
  },
  {
   "cell_type": "code",
   "execution_count": 3,
   "id": "192b93c9-7ca2-4cc8-b05a-68c9688d6416",
   "metadata": {},
   "outputs": [
    {
     "name": "stdout",
     "output_type": "stream",
     "text": [
      "Hello,World\n"
     ]
    }
   ],
   "source": [
    "print(\"Hello,World\")"
   ]
  },
  {
   "cell_type": "code",
   "execution_count": 5,
   "id": "34702d0a-9796-422f-ac27-72a5629e91d4",
   "metadata": {},
   "outputs": [
    {
     "name": "stdout",
     "output_type": "stream",
     "text": [
      "5 + 3 = 8\n"
     ]
    }
   ],
   "source": [
    "print(\"5 + 3 =\",5+3)"
   ]
  },
  {
   "cell_type": "code",
   "execution_count": 11,
   "id": "a16aba9b-9721-4b13-a622-93c90e857478",
   "metadata": {},
   "outputs": [
    {
     "name": "stdout",
     "output_type": "stream",
     "text": [
      "[1, 2, 3, 4, 5, 6]\n"
     ]
    }
   ],
   "source": [
    "my_list = [1,2,3,4,5]\n",
    "my_list.append(6)\n",
    "print(my_list)"
   ]
  },
  {
   "cell_type": "code",
   "execution_count": 13,
   "id": "0865c9ff-af0e-4070-ba98-17573aa0b63a",
   "metadata": {},
   "outputs": [
    {
     "name": "stdout",
     "output_type": "stream",
     "text": [
      "(3, 4, 5)\n"
     ]
    }
   ],
   "source": [
    "my_tuple = (3,4,5)\n",
    "print(my_tuple)"
   ]
  },
  {
   "cell_type": "code",
   "execution_count": 17,
   "id": "0246a6d2-3ff2-4ddc-bde9-9ec11f926cfa",
   "metadata": {},
   "outputs": [
    {
     "name": "stdout",
     "output_type": "stream",
     "text": [
      "{3, 4, 5, 6, 7}\n"
     ]
    }
   ],
   "source": [
    "my_set = {3,4,5,6}\n",
    "my_set.add(7)\n",
    "print(my_set)"
   ]
  },
  {
   "cell_type": "code",
   "execution_count": 19,
   "id": "b475a820-a758-4692-b650-26dce93b1cb9",
   "metadata": {},
   "outputs": [
    {
     "name": "stdout",
     "output_type": "stream",
     "text": [
      "{'sns': 'coimbatore', 'ssn': 'chennai', 'srm': 'chennai'}\n"
     ]
    }
   ],
   "source": [
    "my_dict = {\"sns\":\"coimbatore\",\"ssn\":\"chennai\"}\n",
    "my_dict[\"srm\"] = \"chennai\"\n",
    "print(my_dict)"
   ]
  },
  {
   "cell_type": "code",
   "execution_count": 31,
   "id": "428a0ae9-61d0-474e-ba12-cf86f66fb5a2",
   "metadata": {},
   "outputs": [
    {
     "name": "stdout",
     "output_type": "stream",
     "text": [
      "[ 1  2  3  4  5  6  7  8  9 10]\n"
     ]
    }
   ],
   "source": [
    "import numpy as np\n",
    "arr = np.array(range(1,11))\n",
    "print(arr)"
   ]
  },
  {
   "cell_type": "code",
   "execution_count": 33,
   "id": "7261bc27-c07d-4c7a-82c9-d00d9a4523b3",
   "metadata": {},
   "outputs": [
    {
     "name": "stdout",
     "output_type": "stream",
     "text": [
      "1\n",
      "10\n",
      "5.5\n"
     ]
    }
   ],
   "source": [
    "min_value = np.min(arr)\n",
    "max_value = np.max(arr)\n",
    "mean_value = np.mean(arr)\n",
    "print(min_value)\n",
    "print(max_value)\n",
    "print(mean_value)"
   ]
  },
  {
   "cell_type": "code",
   "execution_count": 37,
   "id": "dc30e392-689a-4038-b295-4789c8235b77",
   "metadata": {},
   "outputs": [
    {
     "name": "stdout",
     "output_type": "stream",
     "text": [
      "           0          1          2          3          4          5  \\\n",
      "0 -119.21760  124.33833 -22.838790  42.074740  -7.011255  19.987260   \n",
      "1 -231.11064  117.29235  13.844360  40.625570   6.719325  23.114820   \n",
      "2 -106.71470  138.27286 -25.117392  33.036263 -17.002466  25.984060   \n",
      "3 -225.12614  160.49052   5.700141  26.851997   8.370367   9.451518   \n",
      "4 -148.09901  115.34616 -34.792790  25.507706 -34.924930  15.149554   \n",
      "\n",
      "           6          7          8          9         10         11        12  \\\n",
      "0 -16.026869  17.884810 -12.553806  12.362547  -9.089807   8.994223 -5.611320   \n",
      "1  -7.070031  25.749584  -7.358057  11.780967  -1.463972  10.752818 -1.192076   \n",
      "2 -14.420881   9.424596 -12.161647   6.012225 -13.856017   4.925122 -9.078103   \n",
      "3   2.127471  10.046882   2.389887   9.063893   3.287354   3.338075 -2.649507   \n",
      "4 -23.471218   1.445836 -15.869086   2.962356 -16.011250  -2.585253 -3.462418   \n",
      "\n",
      "   label  \n",
      "0  blues  \n",
      "1  blues  \n",
      "2  blues  \n",
      "3  blues  \n",
      "4  blues  \n",
      "<class 'pandas.core.frame.DataFrame'>\n",
      "RangeIndex: 1000 entries, 0 to 999\n",
      "Data columns (total 14 columns):\n",
      " #   Column  Non-Null Count  Dtype  \n",
      "---  ------  --------------  -----  \n",
      " 0   0       1000 non-null   float64\n",
      " 1   1       1000 non-null   float64\n",
      " 2   2       1000 non-null   float64\n",
      " 3   3       1000 non-null   float64\n",
      " 4   4       1000 non-null   float64\n",
      " 5   5       1000 non-null   float64\n",
      " 6   6       1000 non-null   float64\n",
      " 7   7       1000 non-null   float64\n",
      " 8   8       1000 non-null   float64\n",
      " 9   9       1000 non-null   float64\n",
      " 10  10      1000 non-null   float64\n",
      " 11  11      1000 non-null   float64\n",
      " 12  12      1000 non-null   float64\n",
      " 13  label   1000 non-null   object \n",
      "dtypes: float64(13), object(1)\n",
      "memory usage: 109.5+ KB\n",
      "None\n"
     ]
    }
   ],
   "source": [
    "import pandas as pd\n",
    "df = pd.read_csv(\"D:\\\\Music\\\\features.csv\")\n",
    "print(df.head())\n",
    "print(df.info())"
   ]
  },
  {
   "cell_type": "code",
   "execution_count": 39,
   "id": "b514d390-5e8a-4828-ac6d-ad52445d77c1",
   "metadata": {},
   "outputs": [
    {
     "name": "stdin",
     "output_type": "stream",
     "text": [
      "Enter key 1: 1\n",
      "Enter Value 1 :  book\n"
     ]
    },
    {
     "name": "stdout",
     "output_type": "stream",
     "text": [
      "Final Dictionary : {'1': 'book'}\n"
     ]
    },
    {
     "name": "stdin",
     "output_type": "stream",
     "text": [
      "Enter key 2: 2\n",
      "Enter Value 2 :  newspaper\n"
     ]
    },
    {
     "name": "stdout",
     "output_type": "stream",
     "text": [
      "Final Dictionary : {'1': 'book', '2': 'newspaper'}\n"
     ]
    },
    {
     "name": "stdin",
     "output_type": "stream",
     "text": [
      "Enter key 3: 3\n",
      "Enter Value 3 :  pen\n"
     ]
    },
    {
     "name": "stdout",
     "output_type": "stream",
     "text": [
      "Final Dictionary : {'1': 'book', '2': 'newspaper', '3': 'pen'}\n"
     ]
    }
   ],
   "source": [
    "user_dict = {}\n",
    "for i in range (3):\n",
    "    key = input(f\"Enter key {i+1}:\")\n",
    "    value = input(f\"Enter Value {key} : \")\n",
    "    user_dict[key] = value\n",
    "    print(\"Final Dictionary :\" , user_dict)"
   ]
  },
  {
   "cell_type": "code",
   "execution_count": 43,
   "id": "d74b080d-42e9-4b35-82a0-55c94fa4d621",
   "metadata": {},
   "outputs": [
    {
     "name": "stdout",
     "output_type": "stream",
     "text": [
      "[[3 4]\n",
      " [5 8]]\n"
     ]
    }
   ],
   "source": [
    "import numpy as np\n",
    "matrix1 = np.array([[1,3],[2,6]])\n",
    "matrix2 = np.array([[2,1],[3,2]])\n",
    "matrix_sum = np.add(matrix1,matrix2)\n",
    "print(matrix_sum)"
   ]
  },
  {
   "cell_type": "code",
   "execution_count": 45,
   "id": "03740ea2-2ac6-4da0-9d7f-38ca3fe59173",
   "metadata": {},
   "outputs": [],
   "source": [
    "#Level 2"
   ]
  },
  {
   "cell_type": "code",
   "execution_count": 51,
   "id": "6f5f67d5-a3d6-43a5-a15f-7dd895f270c9",
   "metadata": {},
   "outputs": [
    {
     "data": {
      "image/png": "[encoded data removed]",
      "text/plain": [
       "<Figure size 640x480 with 1 Axes>"
      ]
     },
     "metadata": {},
     "output_type": "display_data"
    }
   ],
   "source": [
    "import matplotlib.pyplot as plt\n",
    "x = [1,2,3,4,5]\n",
    "y = [7,2,3,4,5]\n",
    "plt.plot(x,y,marker =\"o\",linestyle = \"--\", color = \"b\",label = \"Line Chart\")\n",
    "plt.xlabel(\"x-axis\")\n",
    "plt.ylabel(\"y-axis\")\n",
    "plt.title(\"Simple Line Chart\")\n",
    "plt.legend()\n",
    "plt.show()\n",
    "         "
   ]
  },
  {
   "cell_type": "code",
   "execution_count": 61,
   "id": "bb221423-717a-41bd-b5a2-10dc39998bb8",
   "metadata": {},
   "outputs": [
    {
     "name": "stdout",
     "output_type": "stream",
     "text": [
      "   CustomerID   Genre  Age  Annual Income (k$)  Spending Score (1-100)\n",
      "0           1    Male   19                  15                      39\n",
      "1           2    Male   21                  15                      81\n",
      "2           3  Female   20                  16                       6\n",
      "3           4  Female   23                  16                      77\n",
      "4           5  Female   31                  17                      40\n",
      "       CustomerID         Age  Annual Income (k$)  Spending Score (1-100)\n",
      "count  200.000000  200.000000          200.000000              200.000000\n",
      "mean   100.500000   38.850000           60.560000               50.200000\n",
      "std     57.879185   13.969007           26.264721               25.823522\n",
      "min      1.000000   18.000000           15.000000                1.000000\n",
      "25%     50.750000   28.750000           41.500000               34.750000\n",
      "50%    100.500000   36.000000           61.500000               50.000000\n",
      "75%    150.250000   49.000000           78.000000               73.000000\n",
      "max    200.000000   70.000000          137.000000               99.000000\n",
      "CustomerID                0\n",
      "Genre                     0\n",
      "Age                       0\n",
      "Annual Income (k$)        0\n",
      "Spending Score (1-100)    0\n",
      "dtype: int64\n"
     ]
    }
   ],
   "source": [
    "import pandas as pd\n",
    "df = pd.read_csv(\"C:\\\\Users\\\\Dharani Ravi\\\\Downloads\\\\kmeans\\\\Mall_Customers.csv\")\n",
    "print(df.head())\n",
    "print(df.describe())\n",
    "print(df.isnull().sum())"
   ]
  },
  {
   "cell_type": "code",
   "execution_count": 5,
   "id": "7cea3861-8deb-4271-9741-378538901995",
   "metadata": {},
   "outputs": [
    {
     "name": "stdout",
     "output_type": "stream",
     "text": [
      "area of rectangle : 10 * 12 : 120\n"
     ]
    }
   ],
   "source": [
    "def area_of_rectangle(length,width):\n",
    "    return (length*width)\n",
    "length = 10\n",
    "width = 12\n",
    "area = area_of_rectangle(length,width)\n",
    "print(f\"area of rectangle : {length} * {width} : {area}\")"
   ]
  },
  {
   "cell_type": "code",
   "execution_count": 11,
   "id": "0a8ebaee-beaa-4183-8064-465aa11f80ce",
   "metadata": {},
   "outputs": [
    {
     "name": "stdout",
     "output_type": "stream",
     "text": [
      "Even numbers [2, 4, 6]\n",
      "Cubed numbers [8, 27, 64, 125, 216, 343]\n"
     ]
    }
   ],
   "source": [
    "numbers = [2,3,4,5,6,7]\n",
    "even_numbers = list(filter(lambda x :x%2 == 0 , numbers))\n",
    "cubed_numbers = list(map(lambda x: x**3 , numbers))\n",
    "print(\"Even numbers\", even_numbers)\n",
    "print(\"Cubed numbers\",cubed_numbers)"
   ]
  },
  {
   "cell_type": "code",
   "execution_count": 21,
   "id": "3ca836f0-8bbd-489c-bfc4-6e2ca7669e88",
   "metadata": {},
   "outputs": [
    {
     "data": {
      "image/png": "[encoded data removed]",
      "text/plain": [
       "<Figure size 600x400 with 1 Axes>"
      ]
     },
     "metadata": {},
     "output_type": "display_data"
    }
   ],
   "source": [
    "import seaborn as sns\n",
    "import matplotlib.pyplot as plt\n",
    "import numpy as np\n",
    "import pandas as pd\n",
    "\n",
    "np.random.seed(42)\n",
    "data = np.random.randint(10,100,50)\n",
    "\n",
    "df = pd.DataFrame(data,columns=[\"values\"])\n",
    "plt.figure(figsize =(6,4))\n",
    "\n",
    "sns.boxplot(y=df[\"values\"],color = \"skyblue\")\n",
    "\n",
    "plt.title(\"Boxplot of random data\",fontsize = 14)\n",
    "plt.ylabel(\"value\")\n",
    "plt.show()"
   ]
  },
  {
   "cell_type": "code",
   "execution_count": 38,
   "id": "78b91f41-c767-4cba-8bb9-668fc1ee3f83",
   "metadata": {},
   "outputs": [
    {
     "data": {
      "image/png": "[encoded data removed]",
      "text/plain": [
       "<Figure size 800x600 with 2 Axes>"
      ]
     },
     "metadata": {},
     "output_type": "display_data"
    }
   ],
   "source": [
    "import pandas as pd\n",
    "import seaborn as sns\n",
    "import matplotlib.pyplot as plt\n",
    "df = pd.read_csv(\"C:\\\\Users\\\\Dharani Ravi\\\\Downloads\\\\kmeans\\\\Mall_Customers.csv\")\n",
    "numeric_df = df.select_dtypes(include = ['number'])\n",
    "corr_matrix = numeric_df.corr()\n",
    "plt.figure(figsize = (8,6))\n",
    "sns.heatmap(corr_matrix,annot = True , cmap = \"coolwarm\" , fmt = \".2f\",linewidth = 0.5)\n",
    "plt.title(\"customer dataset correlation heatmap\",fontsize=14)\n",
    "plt.show()"
   ]
  },
  {
   "cell_type": "code",
   "execution_count": 40,
   "id": "bb698a61-e3e2-4f0d-b844-2e42684e9648",
   "metadata": {},
   "outputs": [],
   "source": [
    "#Level 3"
   ]
  },
  {
   "cell_type": "code",
   "execution_count": 56,
   "id": "5bce7397-3a2f-419d-b66e-b53176234fd1",
   "metadata": {},
   "outputs": [
    {
     "name": "stdout",
     "output_type": "stream",
     "text": [
      "Rectangle with length 5 and width 3 has an area of 15\n"
     ]
    }
   ],
   "source": [
    "class Rectangle:\n",
    "    def __init__(self,length,width):\n",
    "        self.length = length\n",
    "        self.width = width\n",
    "    def area(self):\n",
    "        return self.length*self.width\n",
    "    def display_info(self):\n",
    "        print(f\"Rectangle with length {self.length} and width {self.width} has an area of {self.area()}\")\n",
    "rect = Rectangle(5,3)\n",
    "rect.display_info()"
   ]
  },
  {
   "cell_type": "code",
   "execution_count": 13,
   "id": "65555354-0047-4cb9-a49c-169355605ef5",
   "metadata": {},
   "outputs": [
    {
     "name": "stdout",
     "output_type": "stream",
     "text": [
      "Result : 1.0\n"
     ]
    }
   ],
   "source": [
    "def division(a,b):\n",
    "    try:\n",
    "        result = a/b\n",
    "        print(f\"Result : {result}\")\n",
    "    except Zerodivisionerror:\n",
    "        print(\"Error\")\n",
    "division(1,1)"
   ]
  },
  {
   "cell_type": "code",
   "execution_count": 25,
   "id": "76c71672-45cb-4f0e-8a8b-d9e95de1bb57",
   "metadata": {},
   "outputs": [
    {
     "name": "stdout",
     "output_type": "stream",
     "text": [
      "buddy says woof!\n"
     ]
    }
   ],
   "source": [
    "class Animal:\n",
    "    def __init__(self,name):\n",
    "        self.name = name\n",
    "    def speak(self):\n",
    "        return \"This animal makes a sound\"\n",
    "\n",
    "class Dog(Animal):\n",
    "    def speak(self):\n",
    "        return f\"{self.name} says woof!\"\n",
    "\n",
    "animal = Animal(\"unknown\")\n",
    "dog = Dog(\"buddy\")\n",
    "print(dog.speak())"
   ]
  },
  {
   "cell_type": "code",
   "execution_count": 37,
   "id": "97b4ea5f-01a7-4a9e-94cb-f7f3361cf018",
   "metadata": {},
   "outputs": [
    {
     "name": "stdout",
     "output_type": "stream",
     "text": [
      "Execution time : 2.001417 seconds\n",
      "function executed with a delay of 2 seconds\n"
     ]
    }
   ],
   "source": [
    "import time\n",
    "\n",
    "def timer_decorator(func):\n",
    "    def wrapper(*args, **kwargs):\n",
    "        start_time = time.time()\n",
    "        result = func(*args, **kwargs)\n",
    "        end_time = time.time()\n",
    "        print(f\"Execution time : {end_time - start_time:.6f} seconds\")\n",
    "        return result\n",
    "    return wrapper\n",
    "@timer_decorator\n",
    "def sample_function(n):\n",
    "    time.sleep(n)\n",
    "    return f\"function executed with a delay of {n} seconds\"\n",
    "\n",
    "print(sample_function(2))"
   ]
  },
  {
   "cell_type": "code",
   "execution_count": 39,
   "id": "19038d1a-d902-418b-a207-2ae56a5dd86f",
   "metadata": {},
   "outputs": [
    {
     "name": "stdout",
     "output_type": "stream",
     "text": [
      "0\n",
      "1\n",
      "1\n",
      "2\n",
      "3\n"
     ]
    }
   ],
   "source": [
    "def fibonacci_generator():\n",
    "    a,b = 0,1\n",
    "    while True :\n",
    "        yield a\n",
    "        a,b = b, a+b\n",
    "fib_gen = fibonacci_generator()\n",
    "\n",
    "for i in range(5):\n",
    "    print(next(fib_gen))"
   ]
  },
  {
   "cell_type": "code",
   "execution_count": 51,
   "id": "a9b794b9-5e63-419e-90bb-aa5eae4f7ac7",
   "metadata": {},
   "outputs": [
    {
     "name": "stdout",
     "output_type": "stream",
     "text": [
      "original list: [[99, 2, 3], [4, 5, 6]]\n",
      "shallow copy: [[99, 2, 3], [4, 5, 6]]\n",
      "deep copy: [[42, 2, 3], [4, 5, 6]]\n"
     ]
    }
   ],
   "source": [
    "import copy\n",
    "\n",
    "original_list = [[1,2,3],[4,5,6]]\n",
    "shallow_copy = copy.copy(original_list)\n",
    "deep_copy = copy.deepcopy(original_list)\n",
    "deep_copy[0][0] = 42\n",
    "shallow_copy[0][0]=99\n",
    "print(\"original list:\" , original_list)\n",
    "print(\"shallow copy:\",shallow_copy)\n",
    "print(\"deep copy:\" , deep_copy)"
   ]
  },
  {
   "cell_type": "code",
   "execution_count": 1,
   "id": "7f7070b3-495c-46ac-abb8-a1cc91c3fb86",
   "metadata": {},
   "outputs": [],
   "source": [
    "#Level 4"
   ]
  },
  {
   "cell_type": "code",
   "execution_count": 5,
   "id": "92a9cf03-cd89-4094-9992-06c1388748b9",
   "metadata": {},
   "outputs": [
    {
     "name": "stdout",
     "output_type": "stream",
     "text": [
      "Dataset info:\n",
      "<class 'pandas.core.frame.DataFrame'>\n",
      "RangeIndex: 4140 entries, 0 to 4139\n",
      "Data columns (total 18 columns):\n",
      " #   Column         Non-Null Count  Dtype  \n",
      "---  ------         --------------  -----  \n",
      " 0   date           4140 non-null   object \n",
      " 1   price          4140 non-null   float64\n",
      " 2   bedrooms       4140 non-null   float64\n",
      " 3   bathrooms      4140 non-null   float64\n",
      " 4   sqft_living    4140 non-null   int64  \n",
      " 5   sqft_lot       4140 non-null   int64  \n",
      " 6   floors         4140 non-null   float64\n",
      " 7   waterfront     4140 non-null   int64  \n",
      " 8   view           4140 non-null   int64  \n",
      " 9   condition      4140 non-null   int64  \n",
      " 10  sqft_above     4140 non-null   int64  \n",
      " 11  sqft_basement  4140 non-null   int64  \n",
      " 12  yr_built       4140 non-null   int64  \n",
      " 13  yr_renovated   4140 non-null   int64  \n",
      " 14  street         4140 non-null   object \n",
      " 15  city           4140 non-null   object \n",
      " 16  statezip       4140 non-null   object \n",
      " 17  country        4140 non-null   object \n",
      "dtypes: float64(4), int64(9), object(5)\n",
      "memory usage: 582.3+ KB\n",
      "None\n",
      "Summary statistics:\n",
      "              price     bedrooms    bathrooms   sqft_living      sqft_lot  \\\n",
      "count  4.140000e+03  4140.000000  4140.000000   4140.000000  4.140000e+03   \n",
      "mean   5.530629e+05     3.400483     2.163043   2143.638889  1.469764e+04   \n",
      "std    5.836865e+05     0.903939     0.784733    957.481621  3.587684e+04   \n",
      "min    0.000000e+00     0.000000     0.000000    370.000000  6.380000e+02   \n",
      "25%    3.200000e+05     3.000000     1.750000   1470.000000  5.000000e+03   \n",
      "50%    4.600000e+05     3.000000     2.250000   1980.000000  7.676000e+03   \n",
      "75%    6.591250e+05     4.000000     2.500000   2620.000000  1.100000e+04   \n",
      "max    2.659000e+07     8.000000     6.750000  10040.000000  1.074218e+06   \n",
      "\n",
      "            floors   waterfront         view    condition   sqft_above  \\\n",
      "count  4140.000000  4140.000000  4140.000000  4140.000000  4140.000000   \n",
      "mean      1.514130     0.007488     0.246618     3.452415  1831.351449   \n",
      "std       0.534941     0.086219     0.790619     0.678533   861.382947   \n",
      "min       1.000000     0.000000     0.000000     1.000000   370.000000   \n",
      "25%       1.000000     0.000000     0.000000     3.000000  1190.000000   \n",
      "50%       1.500000     0.000000     0.000000     3.000000  1600.000000   \n",
      "75%       2.000000     0.000000     0.000000     4.000000  2310.000000   \n",
      "max       3.500000     1.000000     4.000000     5.000000  8020.000000   \n",
      "\n",
      "       sqft_basement     yr_built  yr_renovated  \n",
      "count    4140.000000  4140.000000   4140.000000  \n",
      "mean      312.287440  1970.814010    808.368357  \n",
      "std       464.349222    29.807941    979.380535  \n",
      "min         0.000000  1900.000000      0.000000  \n",
      "25%         0.000000  1951.000000      0.000000  \n",
      "50%         0.000000  1976.000000      0.000000  \n",
      "75%       602.500000  1997.000000   1999.000000  \n",
      "max      4820.000000  2014.000000   2014.000000  \n",
      "First 5 rows:\n",
      "                  date      price  bedrooms  bathrooms  sqft_living  sqft_lot  \\\n",
      "0  2014-05-09 00:00:00   376000.0       3.0       2.00         1340      1384   \n",
      "1  2014-05-09 00:00:00   800000.0       4.0       3.25         3540    159430   \n",
      "2  2014-05-09 00:00:00  2238888.0       5.0       6.50         7270    130017   \n",
      "3  2014-05-09 00:00:00   324000.0       3.0       2.25          998       904   \n",
      "4  2014-05-10 00:00:00   549900.0       5.0       2.75         3060      7015   \n",
      "\n",
      "   floors  waterfront  view  condition  sqft_above  sqft_basement  yr_built  \\\n",
      "0     3.0           0     0          3        1340              0      2008   \n",
      "1     2.0           0     0          3        3540              0      2007   \n",
      "2     2.0           0     0          3        6420            850      2010   \n",
      "3     2.0           0     0          3         798            200      2007   \n",
      "4     1.0           0     0          5        1600           1460      1979   \n",
      "\n",
      "   yr_renovated                   street       city  statezip country  \n",
      "0             0  9245-9249 Fremont Ave N    Seattle  WA 98103     USA  \n",
      "1             0         33001 NE 24th St  Carnation  WA 98014     USA  \n",
      "2             0         7070 270th Pl SE   Issaquah  WA 98029     USA  \n",
      "3             0           820 NW 95th St    Seattle  WA 98117     USA  \n",
      "4             0        10834 31st Ave SW    Seattle  WA 98146     USA  \n"
     ]
    }
   ],
   "source": [
    "import pandas as pd\n",
    "df = pd.read_csv(\"C:\\\\Users\\\\Dharani Ravi\\\\AppData\\\\Local\\\\Temp\\\\MicrosoftEdgeDownloads\\\\7d7163d4-65d1-4de9-9529-dc07a3464f67\\\\archive\\\\USA Housing Dataset.csv\")\n",
    "\n",
    "print(\"Dataset info:\")\n",
    "print(df.info())\n",
    "\n",
    "print(\"Summary statistics:\")\n",
    "print(df.describe())\n",
    "\n",
    "print(\"First 5 rows:\")\n",
    "print(df.head())"
   ]
  },
  {
   "cell_type": "code",
   "execution_count": 25,
   "id": "70555f77-93d6-42f2-95f8-5222b7510983",
   "metadata": {},
   "outputs": [
    {
     "name": "stdout",
     "output_type": "stream",
     "text": [
      "Protected pdf : C:\\Users\\Dharani Ravi\\Downloads\\scraped_text.pdf\n"
     ]
    }
   ],
   "source": [
    "from PyPDF2 import PdfWriter , PdfReader\n",
    "\n",
    "def pdf_protected(input_pdf, output_pdf, password):\n",
    "    reader = PdfReader(input_pdf)\n",
    "    writer = PdfWriter()\n",
    "\n",
    "    for page in reader.pages:\n",
    "        writer.add_page(page)\n",
    "        \n",
    "    writer.encrypt(password)\n",
    "\n",
    "    with open(output_pdf,\"wb\") as f:\n",
    "        writer.write(f)\n",
    "        \n",
    "    print(f\"Protected pdf : {output_pdf}\")\n",
    "\n",
    "pdf_protected(\"C:\\\\Users\\\\Dharani Ravi\\\\Downloads\\\\Cognifyz.pdf\",\"C:\\\\Users\\\\Dharani Ravi\\\\Downloads\\\\scraped_text.pdf\",\"secure123\")\n",
    "\n",
    "    "
   ]
  },
  {
   "cell_type": "code",
   "execution_count": 11,
   "id": "e70c4458-4cf5-4976-a8d3-42bbbae8ee55",
   "metadata": {},
   "outputs": [
    {
     "name": "stdout",
     "output_type": "stream",
     "text": [
      "Updated DataFrame with new feature:\n",
      "       price  sqft_lot  sqft_living\n",
      "0   1.032836      1384         1340\n",
      "1  45.036723    159430         3540\n",
      "2  17.884044    130017         7270\n",
      "3   0.905812       904          998\n",
      "4   2.292484      7015         3060\n"
     ]
    }
   ],
   "source": [
    "import pandas as pd  \n",
    "\n",
    "df = pd.read_csv(\"C:\\\\Users\\\\Dharani Ravi\\\\AppData\\\\Local\\\\Temp\\\\MicrosoftEdgeDownloads\\\\7d7163d4-65d1-4de9-9529-dc07a3464f67\\\\archive\\\\USA Housing Dataset.csv\")\n",
    "\n",
    "df[\"price\"] = df[\"sqft_lot\"] / df[\"sqft_living\"]\n",
    "\n",
    "print(\"Updated DataFrame with new feature:\")\n",
    "print(df[[\"price\", \"sqft_lot\", \"sqft_living\"]].head())\n"
   ]
  },
  {
   "cell_type": "code",
   "execution_count": 27,
   "id": "607687d2-0aa3-4a99-bf23-937a17e4baa1",
   "metadata": {},
   "outputs": [
    {
     "name": "stdout",
     "output_type": "stream",
     "text": [
      "Task 1 started..\n",
      "Task 2 started..\n",
      "Task 1 completed\n",
      "Task 2 completed\n"
     ]
    }
   ],
   "source": [
    "import threading\n",
    "import time\n",
    "\n",
    "def task_one():\n",
    "    print(\"Task 1 started..\")\n",
    "    time.sleep(2)\n",
    "    print(\"Task 1 completed\")\n",
    "\n",
    "def task_two():\n",
    "    print(\"Task 2 started..\")\n",
    "    time.sleep(3)\n",
    "    print(\"Task 2 completed\")\n",
    "\n",
    "thread1 = threading.Thread(target = task_one)\n",
    "thread2 = threading.Thread(target = task_two)\n",
    "\n",
    "thread1.start()\n",
    "thread2.start()\n",
    "\n",
    "thread1.join()\n",
    "thread2.join()\n",
    "    "
   ]
  },
  {
   "cell_type": "code",
   "execution_count": 39,
   "id": "c28cb0ab-2453-48eb-8418-00afadc31276",
   "metadata": {},
   "outputs": [
    {
     "name": "stdout",
     "output_type": "stream",
     "text": [
      "Logging setup complete. Check 'app.log' for output.\n"
     ]
    }
   ],
   "source": [
    "import logging\n",
    "\n",
    "logging.basicConfig(\n",
    "    filename = \"app.log\",\n",
    "    filemode = \"a\",\n",
    "    format = \"%(asctime)s - %(levelname)s - %(message)s\",\n",
    "    level = logging.DEBUG)\n",
    "\n",
    "logging.debug(\"This is a debug message\")\n",
    "logging.info(\"This is an info message\")\n",
    "logging.warning(\"This is an warning message\")\n",
    "logging.critical(\"This is a critical message\")\n",
    "logging.error(\"This is a error message\")\n",
    "\n",
    "print(\"Logging setup complete. Check 'app.log' for output.\")"
   ]
  },
  {
   "cell_type": "code",
   "execution_count": 43,
   "id": "18d280b8-cf98-41f4-b650-164b1aa69410",
   "metadata": {},
   "outputs": [
    {
     "name": "stdout",
     "output_type": "stream",
     "text": [
      "2025-03-20 10:24:01,177 - DEBUG - This is a debug message\n",
      "2025-03-20 10:24:01,178 - INFO - This is an info message\n",
      "2025-03-20 10:24:01,178 - WARNING - This is an warning message\n",
      "2025-03-20 10:24:01,178 - CRITICAL - This is a critical message\n",
      "2025-03-20 10:24:26,006 - DEBUG - This is a debug message\n",
      "2025-03-20 10:24:26,007 - INFO - This is an info message\n",
      "2025-03-20 10:24:26,007 - WARNING - This is an warning message\n",
      "2025-03-20 10:24:26,008 - CRITICAL - This is a critical message\n",
      "2025-03-20 10:25:11,529 - DEBUG - This is a debug message\n",
      "2025-03-20 10:25:11,529 - INFO - This is an info message\n",
      "2025-03-20 10:25:11,530 - WARNING - This is an warning message\n",
      "2025-03-20 10:25:11,530 - CRITICAL - This is a critical message\n",
      "2025-03-20 10:27:27,348 - DEBUG - This is a debug message\n",
      "2025-03-20 10:27:27,349 - INFO - This is an info message\n",
      "2025-03-20 10:27:27,349 - WARNING - This is an warning message\n",
      "2025-03-20 10:27:27,349 - CRITICAL - This is a critical message\n",
      "2025-03-20 10:27:27,350 - ERROR - This is a error message\n"
     ]
    }
   ],
   "source": [
    "with open(\"app.log\", \"r\") as file:\n",
    "    logs = file.readlines()\n",
    "    for line in logs:\n",
    "        print(line.strip())  # Print each log entry\n"
   ]
  },
  {
   "cell_type": "code",
   "execution_count": 49,
   "id": "5d832f42-13ec-4931-9ddc-2623151e3ab7",
   "metadata": {},
   "outputs": [
    {
     "name": "stdout",
     "output_type": "stream",
     "text": [
      "SHA256 Hash of 'Hello, Python!':\n",
      "1c68755fc075a6bb08a82e80a5f1d3c8a8d40086a73cd8195ec7c43a7554f188\n"
     ]
    }
   ],
   "source": [
    "import hashlib\n",
    "\n",
    "def sha256_hash(text):\n",
    "    hash_object = hashlib.sha256(text.encode())  \n",
    "    return hash_object.hexdigest() \n",
    "\n",
    "input_string = \"Hello, Python!\"\n",
    "hash_value = sha256_hash(input_string)\n",
    "\n",
    "print(f\"SHA256 Hash of '{input_string}':\\n{hash_value}\")\n"
   ]
  },
  {
   "cell_type": "code",
   "execution_count": null,
   "id": "073d13f5-faf7-4164-a2fc-a350a86ccb54",
   "metadata": {},
   "outputs": [],
   "source": []
  }
 ],
 "metadata": {
  "kernelspec": {
   "display_name": "Python 3 (ipykernel)",
   "language": "python",
   "name": "python3"
  },
  "language_info": {
   "codemirror_mode": {
    "name": "ipython",
    "version": 3
   },
   "file_extension": ".py",
   "mimetype": "text/x-python",
   "name": "python",
   "nbconvert_exporter": "python",
   "pygments_lexer": "ipython3",
   "version": "3.12.4"
  }
 },
 "nbformat": 4,
 "nbformat_minor": 5
}
