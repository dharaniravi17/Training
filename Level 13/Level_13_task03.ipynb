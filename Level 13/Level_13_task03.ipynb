{
 "cells": [
  {
   "cell_type": "code",
   "execution_count": 9,
   "id": "8d23b8a7-37c4-4519-bdd7-06792cc040a3",
   "metadata": {},
   "outputs": [
    {
     "name": "stderr",
     "output_type": "stream",
     "text": [
      "C:\\Users\\Dharani Ravi\\anaconda3\\Lib\\site-packages\\sklearn\\ensemble\\_weight_boosting.py:519: FutureWarning: The SAMME.R algorithm (the default) is deprecated and will be removed in 1.6. Use the SAMME algorithm to circumvent this warning.\n",
      "  warnings.warn(\n"
     ]
    },
    {
     "name": "stdout",
     "output_type": "stream",
     "text": [
      "Base Model Accuracy: 0.8947\n",
      "AdaBoost Accuracy: 0.9737\n",
      "Base Model ROC-AUC: 0.8972\n",
      "AdaBoost ROC-AUC: 0.9697\n"
     ]
    }
   ],
   "source": [
    "import numpy as np\n",
    "import pandas as pd\n",
    "from sklearn.model_selection import train_test_split\n",
    "from sklearn.preprocessing import StandardScaler\n",
    "from sklearn.tree import DecisionTreeClassifier\n",
    "from sklearn.ensemble import AdaBoostClassifier\n",
    "from sklearn.metrics import accuracy_score, roc_auc_score\n",
    "from sklearn.impute import SimpleImputer\n",
    "from sklearn.datasets import load_breast_cancer\n",
    "\n",
    "data = load_breast_cancer()\n",
    "X = data.data\n",
    "y = data.target\n",
    "imputer = SimpleImputer(strategy=\"mean\")\n",
    "X = imputer.fit_transform(X)\n",
    "\n",
    "X_train, X_test, y_train, y_test = train_test_split(X, y, test_size=0.2, random_state=42)\n",
    "scaler = StandardScaler()\n",
    "X_train = scaler.fit_transform(X_train)\n",
    "X_test = scaler.transform(X_test)\n",
    "\n",
    "base_model = DecisionTreeClassifier(max_depth=1, random_state=42)\n",
    "base_model.fit(X_train, y_train)\n",
    "\n",
    "adaboost_model = AdaBoostClassifier(estimator=base_model, n_estimators=50, random_state=42)\n",
    "adaboost_model.fit(X_train, y_train)\n",
    "\n",
    "y_pred_base = base_model.predict(X_test)\n",
    "y_pred_adaboost = adaboost_model.predict(X_test)\n",
    "\n",
    "base_accuracy = accuracy_score(y_test, y_pred_base)\n",
    "adaboost_accuracy = accuracy_score(y_test, y_pred_adaboost)\n",
    "\n",
    "base_roc_auc = roc_auc_score(y_test, y_pred_base)\n",
    "adaboost_roc_auc = roc_auc_score(y_test, y_pred_adaboost)\n",
    "\n",
    "print(f\"Base Model Accuracy: {base_accuracy:.4f}\")\n",
    "print(f\"AdaBoost Accuracy: {adaboost_accuracy:.4f}\")\n",
    "print(f\"Base Model ROC-AUC: {base_roc_auc:.4f}\")\n",
    "print(f\"AdaBoost ROC-AUC: {adaboost_roc_auc:.4f}\")\n"
   ]
  },
  {
   "cell_type": "code",
   "execution_count": null,
   "id": "49f834fb-289b-4672-9550-efe196e0fce1",
   "metadata": {},
   "outputs": [],
   "source": []
  }
 ],
 "metadata": {
  "kernelspec": {
   "display_name": "Python 3 (ipykernel)",
   "language": "python",
   "name": "python3"
  },
  "language_info": {
   "codemirror_mode": {
    "name": "ipython",
    "version": 3
   },
   "file_extension": ".py",
   "mimetype": "text/x-python",
   "name": "python",
   "nbconvert_exporter": "python",
   "pygments_lexer": "ipython3",
   "version": "3.12.4"
  }
 },
 "nbformat": 4,
 "nbformat_minor": 5
}
