{
 "cells": [
  {
   "cell_type": "code",
   "execution_count": 1,
   "id": "1873fa04-4e6f-4f27-b088-563dbfb3b332",
   "metadata": {},
   "outputs": [
    {
     "name": "stdout",
     "output_type": "stream",
     "text": [
      "0\n",
      "1\n",
      "1\n",
      "2\n",
      "3\n"
     ]
    }
   ],
   "source": [
    "def fibonacci_generator():\n",
    "    a,b = 0,1\n",
    "    while True :\n",
    "        yield a\n",
    "        a,b = b, a+b\n",
    "fib_gen = fibonacci_generator()\n",
    "\n",
    "for i in range(5):\n",
    "    print(next(fib_gen))"
   ]
  },
  {
   "cell_type": "code",
   "execution_count": null,
   "id": "1472534a-ab97-488b-831a-2dc49cc0e433",
   "metadata": {},
   "outputs": [],
   "source": []
  }
 ],
 "metadata": {
  "kernelspec": {
   "display_name": "Python 3 (ipykernel)",
   "language": "python",
   "name": "python3"
  },
  "language_info": {
   "codemirror_mode": {
    "name": "ipython",
    "version": 3
   },
   "file_extension": ".py",
   "mimetype": "text/x-python",
   "name": "python",
   "nbconvert_exporter": "python",
   "pygments_lexer": "ipython3",
   "version": "3.12.4"
  }
 },
 "nbformat": 4,
 "nbformat_minor": 5
}
