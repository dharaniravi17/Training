{
 "cells": [
  {
   "cell_type": "code",
   "execution_count": 1,
   "id": "38f9a07d-89ad-4be6-8f6e-dccc4137ad21",
   "metadata": {},
   "outputs": [
    {
     "name": "stdout",
     "output_type": "stream",
     "text": [
      "original list: [[99, 2, 3], [4, 5, 6]]\n",
      "shallow copy: [[99, 2, 3], [4, 5, 6]]\n",
      "deep copy: [[42, 2, 3], [4, 5, 6]]\n"
     ]
    }
   ],
   "source": [
    "import copy\n",
    "\n",
    "original_list = [[1,2,3],[4,5,6]]\n",
    "shallow_copy = copy.copy(original_list)\n",
    "deep_copy = copy.deepcopy(original_list)\n",
    "deep_copy[0][0] = 42\n",
    "shallow_copy[0][0]=99\n",
    "print(\"original list:\" , original_list)\n",
    "print(\"shallow copy:\",shallow_copy)\n",
    "print(\"deep copy:\" , deep_copy)"
   ]
  },
  {
   "cell_type": "code",
   "execution_count": null,
   "id": "86a68ced-671d-40f9-be13-45df5dd0dca2",
   "metadata": {},
   "outputs": [],
   "source": []
  }
 ],
 "metadata": {
  "kernelspec": {
   "display_name": "Python 3 (ipykernel)",
   "language": "python",
   "name": "python3"
  },
  "language_info": {
   "codemirror_mode": {
    "name": "ipython",
    "version": 3
   },
   "file_extension": ".py",
   "mimetype": "text/x-python",
   "name": "python",
   "nbconvert_exporter": "python",
   "pygments_lexer": "ipython3",
   "version": "3.12.4"
  }
 },
 "nbformat": 4,
 "nbformat_minor": 5
}
