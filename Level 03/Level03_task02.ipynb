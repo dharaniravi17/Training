{
 "cells": [
  {
   "cell_type": "code",
   "execution_count": 1,
   "id": "0cd1a30b-8c49-4e9b-abe6-2a115a73cba8",
   "metadata": {},
   "outputs": [
    {
     "name": "stdout",
     "output_type": "stream",
     "text": [
      "Result : 1.0\n"
     ]
    }
   ],
   "source": [
    "def division(a,b):\n",
    "    try:\n",
    "        result = a/b\n",
    "        print(f\"Result : {result}\")\n",
    "    except Zerodivisionerror:\n",
    "        print(\"Error\")\n",
    "division(1,1)"
   ]
  },
  {
   "cell_type": "code",
   "execution_count": null,
   "id": "724469a8-cea5-4891-8102-9651023e0c87",
   "metadata": {},
   "outputs": [],
   "source": []
  }
 ],
 "metadata": {
  "kernelspec": {
   "display_name": "Python 3 (ipykernel)",
   "language": "python",
   "name": "python3"
  },
  "language_info": {
   "codemirror_mode": {
    "name": "ipython",
    "version": 3
   },
   "file_extension": ".py",
   "mimetype": "text/x-python",
   "name": "python",
   "nbconvert_exporter": "python",
   "pygments_lexer": "ipython3",
   "version": "3.12.4"
  }
 },
 "nbformat": 4,
 "nbformat_minor": 5
}
