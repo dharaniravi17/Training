{
 "cells": [
  {
   "cell_type": "code",
   "execution_count": 1,
   "id": "fa7e590c-a74f-4b2b-b6e3-89169926e0ff",
   "metadata": {},
   "outputs": [
    {
     "name": "stdout",
     "output_type": "stream",
     "text": [
      "Rectangle with length 5 and width 3 has an area of 15\n"
     ]
    }
   ],
   "source": [
    "class Rectangle:\n",
    "    def __init__(self,length,width):\n",
    "        self.length = length\n",
    "        self.width = width\n",
    "    def area(self):\n",
    "        return self.length*self.width\n",
    "    def display_info(self):\n",
    "        print(f\"Rectangle with length {self.length} and width {self.width} has an area of {self.area()}\")\n",
    "rect = Rectangle(5,3)\n",
    "rect.display_info()"
   ]
  },
  {
   "cell_type": "code",
   "execution_count": null,
   "id": "1f36ef6c-b66a-4597-9308-922edc61e648",
   "metadata": {},
   "outputs": [],
   "source": []
  }
 ],
 "metadata": {
  "kernelspec": {
   "display_name": "Python 3 (ipykernel)",
   "language": "python",
   "name": "python3"
  },
  "language_info": {
   "codemirror_mode": {
    "name": "ipython",
    "version": 3
   },
   "file_extension": ".py",
   "mimetype": "text/x-python",
   "name": "python",
   "nbconvert_exporter": "python",
   "pygments_lexer": "ipython3",
   "version": "3.12.4"
  }
 },
 "nbformat": 4,
 "nbformat_minor": 5
}
