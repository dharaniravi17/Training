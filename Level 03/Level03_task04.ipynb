{
 "cells": [
  {
   "cell_type": "code",
   "execution_count": 1,
   "id": "a81770d3-0a87-49d3-a8af-92a6b8ea2774",
   "metadata": {},
   "outputs": [
    {
     "name": "stdout",
     "output_type": "stream",
     "text": [
      "Execution time : 2.000909 seconds\n",
      "function executed with a delay of 2 seconds\n"
     ]
    }
   ],
   "source": [
    "import time\n",
    "\n",
    "def timer_decorator(func):\n",
    "    def wrapper(*args, **kwargs):\n",
    "        start_time = time.time()\n",
    "        result = func(*args, **kwargs)\n",
    "        end_time = time.time()\n",
    "        print(f\"Execution time : {end_time - start_time:.6f} seconds\")\n",
    "        return result\n",
    "    return wrapper\n",
    "@timer_decorator\n",
    "def sample_function(n):\n",
    "    time.sleep(n)\n",
    "    return f\"function executed with a delay of {n} seconds\"\n",
    "\n",
    "print(sample_function(2))"
   ]
  },
  {
   "cell_type": "code",
   "execution_count": null,
   "id": "314fbffe-67df-4818-9912-b718e79bec01",
   "metadata": {},
   "outputs": [],
   "source": []
  }
 ],
 "metadata": {
  "kernelspec": {
   "display_name": "Python 3 (ipykernel)",
   "language": "python",
   "name": "python3"
  },
  "language_info": {
   "codemirror_mode": {
    "name": "ipython",
    "version": 3
   },
   "file_extension": ".py",
   "mimetype": "text/x-python",
   "name": "python",
   "nbconvert_exporter": "python",
   "pygments_lexer": "ipython3",
   "version": "3.12.4"
  }
 },
 "nbformat": 4,
 "nbformat_minor": 5
}
