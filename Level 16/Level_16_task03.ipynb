{
 "cells": [
  {
   "cell_type": "code",
   "execution_count": 1,
   "id": "61d954a9-7992-4fb7-af11-8942c264a129",
   "metadata": {},
   "outputs": [
    {
     "name": "stdout",
     "output_type": "stream",
     "text": [
      "Cross-Validation Comparison:\n",
      "                  Model  Mean MSE  Std Dev\n",
      "      Linear Regression  0.558290 0.065602\n",
      "Random Forest Regressor  0.425455 0.062343\n",
      "\n",
      "Discussion:\n",
      "Random Forest Regressor has a lower average MSE and might generalize better.\n"
     ]
    }
   ],
   "source": [
    "import numpy as np\n",
    "import pandas as pd\n",
    "from sklearn.datasets import fetch_california_housing\n",
    "from sklearn.linear_model import LinearRegression\n",
    "from sklearn.ensemble import RandomForestRegressor\n",
    "from sklearn.model_selection import cross_val_score\n",
    "from sklearn.preprocessing import StandardScaler\n",
    "from sklearn.pipeline import make_pipeline\n",
    "\n",
    "housing = fetch_california_housing()\n",
    "X = housing.data\n",
    "y = housing.target\n",
    "\n",
    "lr = make_pipeline(StandardScaler(), LinearRegression())\n",
    "rf = RandomForestRegressor(n_estimators=100, random_state=42)\n",
    "lr_scores = cross_val_score(lr, X, y, cv=5, scoring='neg_mean_squared_error')\n",
    "rf_scores = cross_val_score(rf, X, y, cv=5, scoring='neg_mean_squared_error')\n",
    "\n",
    "lr_scores = -lr_scores\n",
    "rf_scores = -rf_scores\n",
    "results = pd.DataFrame({\n",
    "    'Model': ['Linear Regression', 'Random Forest Regressor'],\n",
    "    'Mean MSE': [lr_scores.mean(), rf_scores.mean()],\n",
    "    'Std Dev': [lr_scores.std(), rf_scores.std()]\n",
    "})\n",
    "\n",
    "print(\"Cross-Validation Comparison:\")\n",
    "print(results.to_string(index=False))\n",
    "print(\"\\nDiscussion:\")\n",
    "if lr_scores.mean() < rf_scores.mean():\n",
    "    print(\"Linear Regression has a lower average MSE, but check variability.\")\n",
    "else:\n",
    "    print(\"Random Forest Regressor has a lower average MSE and might generalize better.\")\n"
   ]
  },
  {
   "cell_type": "code",
   "execution_count": null,
   "id": "5928b50f-2dff-4245-a831-119c28b22dcb",
   "metadata": {},
   "outputs": [],
   "source": []
  }
 ],
 "metadata": {
  "kernelspec": {
   "display_name": "Python 3 (ipykernel)",
   "language": "python",
   "name": "python3"
  },
  "language_info": {
   "codemirror_mode": {
    "name": "ipython",
    "version": 3
   },
   "file_extension": ".py",
   "mimetype": "text/x-python",
   "name": "python",
   "nbconvert_exporter": "python",
   "pygments_lexer": "ipython3",
   "version": "3.12.4"
  }
 },
 "nbformat": 4,
 "nbformat_minor": 5
}
