{
 "cells": [
  {
   "cell_type": "code",
   "execution_count": 5,
   "id": "203c8fbb-4677-4e66-b28b-10fdc7adcae4",
   "metadata": {},
   "outputs": [
    {
     "name": "stdout",
     "output_type": "stream",
     "text": [
      "Accuracy: 0.8435374149659864\n",
      "\n",
      "Classification Report:\n",
      "               precision    recall  f1-score   support\n",
      "\n",
      "        high       0.77      0.84      0.81        32\n",
      "         low       0.95      0.83      0.89        48\n",
      "      medium       0.74      0.79      0.76        33\n",
      "   very_high       0.89      0.91      0.90        34\n",
      "\n",
      "    accuracy                           0.84       147\n",
      "   macro avg       0.84      0.84      0.84       147\n",
      "weighted avg       0.85      0.84      0.85       147\n",
      "\n",
      "\n",
      "Pipeline handles raw data automatically. Prediction:\n",
      " ['low' 'low' 'low' 'low' 'low']\n"
     ]
    }
   ],
   "source": [
    "import pandas as pd\n",
    "import numpy as np\n",
    "import zipfile\n",
    "import requests\n",
    "import io\n",
    "\n",
    "from sklearn.model_selection import train_test_split\n",
    "from sklearn.ensemble import RandomForestClassifier\n",
    "from sklearn.compose import ColumnTransformer\n",
    "from sklearn.pipeline import Pipeline\n",
    "from sklearn.preprocessing import StandardScaler, OneHotEncoder\n",
    "from sklearn.metrics import accuracy_score, classification_report\n",
    "\n",
    "url = \"https://archive.ics.uci.edu/ml/machine-learning-databases/00275/Bike-Sharing-Dataset.zip\"\n",
    "r = requests.get(url)\n",
    "z = zipfile.ZipFile(io.BytesIO(r.content))\n",
    "df = pd.read_csv(z.open(\"day.csv\"))\n",
    "df = df.drop(['instant', 'dteday', 'casual', 'registered'], axis=1)\n",
    "\n",
    "X = df.drop('cnt', axis=1)\n",
    "y = pd.qcut(df['cnt'], q=4, labels=['low', 'medium', 'high', 'very_high']) \n",
    "categorical_cols = ['season', 'yr', 'mnth', 'holiday', 'weekday', 'workingday', 'weathersit']\n",
    "numerical_cols = ['temp', 'atemp', 'hum', 'windspeed']\n",
    "preprocessor = ColumnTransformer(\n",
    "    transformers=[\n",
    "        ('num', StandardScaler(), numerical_cols),\n",
    "        ('cat', OneHotEncoder(), categorical_cols)\n",
    "    ]\n",
    ")\n",
    "pipeline = Pipeline(steps=[\n",
    "    ('preprocessor', preprocessor),\n",
    "    ('classifier', RandomForestClassifier(n_estimators=100, random_state=42))\n",
    "])\n",
    "X_train, X_test, y_train, y_test = train_test_split(X, y, test_size=0.2, random_state=42)\n",
    "pipeline.fit(X_train, y_train)\n",
    "y_pred = pipeline.predict(X_test)\n",
    "print(\"Accuracy:\", accuracy_score(y_test, y_pred))\n",
    "print(\"\\nClassification Report:\\n\", classification_report(y_test, y_pred))\n",
    "\n",
    "sample_input = X.iloc[:5]\n",
    "print(\"\\nPipeline handles raw data automatically. Prediction:\\n\", pipeline.predict(sample_input))\n"
   ]
  },
  {
   "cell_type": "code",
   "execution_count": null,
   "id": "7a4ed0f2-9d0a-42c3-8ee8-96959dc53044",
   "metadata": {},
   "outputs": [],
   "source": []
  }
 ],
 "metadata": {
  "kernelspec": {
   "display_name": "Python 3 (ipykernel)",
   "language": "python",
   "name": "python3"
  },
  "language_info": {
   "codemirror_mode": {
    "name": "ipython",
    "version": 3
   },
   "file_extension": ".py",
   "mimetype": "text/x-python",
   "name": "python",
   "nbconvert_exporter": "python",
   "pygments_lexer": "ipython3",
   "version": "3.12.4"
  }
 },
 "nbformat": 4,
 "nbformat_minor": 5
}
