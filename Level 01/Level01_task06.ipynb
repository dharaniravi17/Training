{
 "cells": [
  {
   "cell_type": "code",
   "execution_count": 1,
   "id": "91e92222-4b11-4220-889a-302f02190c80",
   "metadata": {},
   "outputs": [
    {
     "name": "stdout",
     "output_type": "stream",
     "text": [
      "[[3 4]\n",
      " [5 8]]\n"
     ]
    }
   ],
   "source": [
    "import numpy as np\n",
    "matrix1 = np.array([[1,3],[2,6]])\n",
    "matrix2 = np.array([[2,1],[3,2]])\n",
    "matrix_sum = np.add(matrix1,matrix2)\n",
    "print(matrix_sum)"
   ]
  },
  {
   "cell_type": "code",
   "execution_count": null,
   "id": "6b5ac0ba-b0fa-4a70-a9b6-9663f4f4a7e9",
   "metadata": {},
   "outputs": [],
   "source": []
  }
 ],
 "metadata": {
  "kernelspec": {
   "display_name": "Python 3 (ipykernel)",
   "language": "python",
   "name": "python3"
  },
  "language_info": {
   "codemirror_mode": {
    "name": "ipython",
    "version": 3
   },
   "file_extension": ".py",
   "mimetype": "text/x-python",
   "name": "python",
   "nbconvert_exporter": "python",
   "pygments_lexer": "ipython3",
   "version": "3.12.4"
  }
 },
 "nbformat": 4,
 "nbformat_minor": 5
}
