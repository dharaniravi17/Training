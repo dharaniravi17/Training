{
 "cells": [
  {
   "cell_type": "code",
   "execution_count": 1,
   "id": "1d534a91-436e-4aef-844c-bdb0282bf1e8",
   "metadata": {},
   "outputs": [
    {
     "name": "stdout",
     "output_type": "stream",
     "text": [
      "           0          1          2          3          4          5  \\\n",
      "0 -119.21760  124.33833 -22.838790  42.074740  -7.011255  19.987260   \n",
      "1 -231.11064  117.29235  13.844360  40.625570   6.719325  23.114820   \n",
      "2 -106.71470  138.27286 -25.117392  33.036263 -17.002466  25.984060   \n",
      "3 -225.12614  160.49052   5.700141  26.851997   8.370367   9.451518   \n",
      "4 -148.09901  115.34616 -34.792790  25.507706 -34.924930  15.149554   \n",
      "\n",
      "           6          7          8          9         10         11        12  \\\n",
      "0 -16.026869  17.884810 -12.553806  12.362547  -9.089807   8.994223 -5.611320   \n",
      "1  -7.070031  25.749584  -7.358057  11.780967  -1.463972  10.752818 -1.192076   \n",
      "2 -14.420881   9.424596 -12.161647   6.012225 -13.856017   4.925122 -9.078103   \n",
      "3   2.127471  10.046882   2.389887   9.063893   3.287354   3.338075 -2.649507   \n",
      "4 -23.471218   1.445836 -15.869086   2.962356 -16.011250  -2.585253 -3.462418   \n",
      "\n",
      "   label  \n",
      "0  blues  \n",
      "1  blues  \n",
      "2  blues  \n",
      "3  blues  \n",
      "4  blues  \n",
      "<class 'pandas.core.frame.DataFrame'>\n",
      "RangeIndex: 1000 entries, 0 to 999\n",
      "Data columns (total 14 columns):\n",
      " #   Column  Non-Null Count  Dtype  \n",
      "---  ------  --------------  -----  \n",
      " 0   0       1000 non-null   float64\n",
      " 1   1       1000 non-null   float64\n",
      " 2   2       1000 non-null   float64\n",
      " 3   3       1000 non-null   float64\n",
      " 4   4       1000 non-null   float64\n",
      " 5   5       1000 non-null   float64\n",
      " 6   6       1000 non-null   float64\n",
      " 7   7       1000 non-null   float64\n",
      " 8   8       1000 non-null   float64\n",
      " 9   9       1000 non-null   float64\n",
      " 10  10      1000 non-null   float64\n",
      " 11  11      1000 non-null   float64\n",
      " 12  12      1000 non-null   float64\n",
      " 13  label   1000 non-null   object \n",
      "dtypes: float64(13), object(1)\n",
      "memory usage: 109.5+ KB\n",
      "None\n"
     ]
    }
   ],
   "source": [
    "import pandas as pd\n",
    "df = pd.read_csv(\"D:\\\\Music\\\\features.csv\")\n",
    "print(df.head())\n",
    "print(df.info())"
   ]
  },
  {
   "cell_type": "code",
   "execution_count": null,
   "id": "65cea183-aa62-4399-af18-ffa20d5c50ad",
   "metadata": {},
   "outputs": [],
   "source": []
  }
 ],
 "metadata": {
  "kernelspec": {
   "display_name": "Python 3 (ipykernel)",
   "language": "python",
   "name": "python3"
  },
  "language_info": {
   "codemirror_mode": {
    "name": "ipython",
    "version": 3
   },
   "file_extension": ".py",
   "mimetype": "text/x-python",
   "name": "python",
   "nbconvert_exporter": "python",
   "pygments_lexer": "ipython3",
   "version": "3.12.4"
  }
 },
 "nbformat": 4,
 "nbformat_minor": 5
}
