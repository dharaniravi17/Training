{
 "cells": [
  {
   "cell_type": "code",
   "execution_count": 1,
   "id": "66c174ea-2c11-4053-a231-479be3fee394",
   "metadata": {},
   "outputs": [
    {
     "name": "stdin",
     "output_type": "stream",
     "text": [
      "Enter key 1: 3\n",
      "Enter Value 3 :  1\n"
     ]
    },
    {
     "name": "stdout",
     "output_type": "stream",
     "text": [
      "Final Dictionary : {'3': '1'}\n"
     ]
    },
    {
     "name": "stdin",
     "output_type": "stream",
     "text": [
      "Enter key 2: 2\n",
      "Enter Value 2 :  3\n"
     ]
    },
    {
     "name": "stdout",
     "output_type": "stream",
     "text": [
      "Final Dictionary : {'3': '1', '2': '3'}\n"
     ]
    },
    {
     "name": "stdin",
     "output_type": "stream",
     "text": [
      "Enter key 3: 4\n",
      "Enter Value 4 :  5\n"
     ]
    },
    {
     "name": "stdout",
     "output_type": "stream",
     "text": [
      "Final Dictionary : {'3': '1', '2': '3', '4': '5'}\n"
     ]
    }
   ],
   "source": [
    "user_dict = {}\n",
    "for i in range (3):\n",
    "    key = input(f\"Enter key {i+1}:\")\n",
    "    value = input(f\"Enter Value {key} : \")\n",
    "    user_dict[key] = value\n",
    "    print(\"Final Dictionary :\" , user_dict)"
   ]
  },
  {
   "cell_type": "code",
   "execution_count": null,
   "id": "850c89dc-152c-4a9b-9268-51f761ccf567",
   "metadata": {},
   "outputs": [],
   "source": []
  }
 ],
 "metadata": {
  "kernelspec": {
   "display_name": "Python 3 (ipykernel)",
   "language": "python",
   "name": "python3"
  },
  "language_info": {
   "codemirror_mode": {
    "name": "ipython",
    "version": 3
   },
   "file_extension": ".py",
   "mimetype": "text/x-python",
   "name": "python",
   "nbconvert_exporter": "python",
   "pygments_lexer": "ipython3",
   "version": "3.12.4"
  }
 },
 "nbformat": 4,
 "nbformat_minor": 5
}
