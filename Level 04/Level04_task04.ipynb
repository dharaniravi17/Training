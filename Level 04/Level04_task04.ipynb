{
 "cells": [
  {
   "cell_type": "code",
   "execution_count": 1,
   "id": "259782a1-345b-4fab-9f88-612773451f9b",
   "metadata": {},
   "outputs": [
    {
     "name": "stdout",
     "output_type": "stream",
     "text": [
      "Task 1 started..\n",
      "Task 2 started..\n",
      "Task 1 completed\n",
      "Task 2 completed\n"
     ]
    }
   ],
   "source": [
    "import threading\n",
    "import time\n",
    "\n",
    "def task_one():\n",
    "    print(\"Task 1 started..\")\n",
    "    time.sleep(2)\n",
    "    print(\"Task 1 completed\")\n",
    "\n",
    "def task_two():\n",
    "    print(\"Task 2 started..\")\n",
    "    time.sleep(3)\n",
    "    print(\"Task 2 completed\")\n",
    "\n",
    "thread1 = threading.Thread(target = task_one)\n",
    "thread2 = threading.Thread(target = task_two)\n",
    "\n",
    "thread1.start()\n",
    "thread2.start()\n",
    "\n",
    "thread1.join()\n",
    "thread2.join()\n",
    "    "
   ]
  },
  {
   "cell_type": "code",
   "execution_count": null,
   "id": "25050c93-69ea-4e12-9ee8-802590a14501",
   "metadata": {},
   "outputs": [],
   "source": []
  }
 ],
 "metadata": {
  "kernelspec": {
   "display_name": "Python 3 (ipykernel)",
   "language": "python",
   "name": "python3"
  },
  "language_info": {
   "codemirror_mode": {
    "name": "ipython",
    "version": 3
   },
   "file_extension": ".py",
   "mimetype": "text/x-python",
   "name": "python",
   "nbconvert_exporter": "python",
   "pygments_lexer": "ipython3",
   "version": "3.12.4"
  }
 },
 "nbformat": 4,
 "nbformat_minor": 5
}
