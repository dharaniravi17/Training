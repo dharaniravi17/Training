{
 "cells": [
  {
   "cell_type": "code",
   "execution_count": 1,
   "id": "ac5a6f31-7fe6-4570-80f5-393ec2b55fc5",
   "metadata": {},
   "outputs": [
    {
     "name": "stdout",
     "output_type": "stream",
     "text": [
      "Logging setup complete. Check 'app.log' for output.\n"
     ]
    }
   ],
   "source": [
    "import logging\n",
    "\n",
    "logging.basicConfig(\n",
    "    filename = \"app.log\",\n",
    "    filemode = \"a\",\n",
    "    format = \"%(asctime)s - %(levelname)s - %(message)s\",\n",
    "    level = logging.DEBUG)\n",
    "\n",
    "logging.debug(\"This is a debug message\")\n",
    "logging.info(\"This is an info message\")\n",
    "logging.warning(\"This is an warning message\")\n",
    "logging.critical(\"This is a critical message\")\n",
    "logging.error(\"This is a error message\")\n",
    "\n",
    "print(\"Logging setup complete. Check 'app.log' for output.\")"
   ]
  },
  {
   "cell_type": "code",
   "execution_count": 5,
   "id": "cd2ca26e-41ff-41d2-ad3f-5acfabf5fbf5",
   "metadata": {},
   "outputs": [
    {
     "name": "stdout",
     "output_type": "stream",
     "text": [
      "2025-03-20 10:24:01,177 - DEBUG - This is a debug message\n",
      "2025-03-20 10:24:01,178 - INFO - This is an info message\n",
      "2025-03-20 10:24:01,178 - WARNING - This is an warning message\n",
      "2025-03-20 10:24:01,178 - CRITICAL - This is a critical message\n",
      "2025-03-20 10:24:26,006 - DEBUG - This is a debug message\n",
      "2025-03-20 10:24:26,007 - INFO - This is an info message\n",
      "2025-03-20 10:24:26,007 - WARNING - This is an warning message\n",
      "2025-03-20 10:24:26,008 - CRITICAL - This is a critical message\n",
      "2025-03-20 10:25:11,529 - DEBUG - This is a debug message\n",
      "2025-03-20 10:25:11,529 - INFO - This is an info message\n",
      "2025-03-20 10:25:11,530 - WARNING - This is an warning message\n",
      "2025-03-20 10:25:11,530 - CRITICAL - This is a critical message\n",
      "2025-03-20 10:27:27,348 - DEBUG - This is a debug message\n",
      "2025-03-20 10:27:27,349 - INFO - This is an info message\n",
      "2025-03-20 10:27:27,349 - WARNING - This is an warning message\n",
      "2025-03-20 10:27:27,349 - CRITICAL - This is a critical message\n",
      "2025-03-20 10:27:27,350 - ERROR - This is a error message\n",
      "2025-03-28 09:18:23,154 - DEBUG - This is a debug message\n",
      "2025-03-28 09:18:23,181 - INFO - This is an info message\n",
      "2025-03-28 09:18:23,182 - WARNING - This is an warning message\n",
      "2025-03-28 09:18:23,182 - CRITICAL - This is a critical message\n",
      "2025-03-28 09:18:23,183 - ERROR - This is a error message\n",
      "2025-03-28 12:13:59,925 - DEBUG - This is a debug message\n",
      "2025-03-28 12:13:59,929 - INFO - This is an info message\n",
      "2025-03-28 12:13:59,929 - WARNING - This is an warning message\n",
      "2025-03-28 12:13:59,929 - CRITICAL - This is a critical message\n",
      "2025-03-28 12:13:59,929 - ERROR - This is a error message\n",
      "2025-03-28 12:14:01,984 - INFO - Note: NumExpr detected 12 cores but \"NUMEXPR_MAX_THREADS\" not set, so enforcing safe limit of 8.\n",
      "2025-03-28 12:14:01,984 - INFO - NumExpr defaulting to 8 threads.\n"
     ]
    }
   ],
   "source": [
    "with open(\"app.log\", \"r\") as file:\n",
    "    logs = file.readlines()\n",
    "    for line in logs:\n",
    "        print(line.strip())"
   ]
  },
  {
   "cell_type": "code",
   "execution_count": null,
   "id": "c7805aec-7542-4a8b-b8b7-bb09ddcf5270",
   "metadata": {},
   "outputs": [],
   "source": []
  }
 ],
 "metadata": {
  "kernelspec": {
   "display_name": "Python 3 (ipykernel)",
   "language": "python",
   "name": "python3"
  },
  "language_info": {
   "codemirror_mode": {
    "name": "ipython",
    "version": 3
   },
   "file_extension": ".py",
   "mimetype": "text/x-python",
   "name": "python",
   "nbconvert_exporter": "python",
   "pygments_lexer": "ipython3",
   "version": "3.12.4"
  }
 },
 "nbformat": 4,
 "nbformat_minor": 5
}
