{
 "cells": [
  {
   "cell_type": "code",
   "execution_count": 1,
   "id": "e7e560d6-d0db-4bfc-8c8c-1947dca7027c",
   "metadata": {},
   "outputs": [
    {
     "name": "stdout",
     "output_type": "stream",
     "text": [
      "SHA256 Hash of 'Hello, Python!':\n",
      "1c68755fc075a6bb08a82e80a5f1d3c8a8d40086a73cd8195ec7c43a7554f188\n"
     ]
    }
   ],
   "source": [
    "import hashlib\n",
    "\n",
    "def sha256_hash(text):\n",
    "    hash_object = hashlib.sha256(text.encode())  \n",
    "    return hash_object.hexdigest() \n",
    "\n",
    "input_string = \"Hello, Python!\"\n",
    "hash_value = sha256_hash(input_string)\n",
    "\n",
    "print(f\"SHA256 Hash of '{input_string}':\\n{hash_value}\")"
   ]
  },
  {
   "cell_type": "code",
   "execution_count": null,
   "id": "fb81966e-b292-4537-a654-58fe87215bf1",
   "metadata": {},
   "outputs": [],
   "source": []
  }
 ],
 "metadata": {
  "kernelspec": {
   "display_name": "Python 3 (ipykernel)",
   "language": "python",
   "name": "python3"
  },
  "language_info": {
   "codemirror_mode": {
    "name": "ipython",
    "version": 3
   },
   "file_extension": ".py",
   "mimetype": "text/x-python",
   "name": "python",
   "nbconvert_exporter": "python",
   "pygments_lexer": "ipython3",
   "version": "3.12.4"
  }
 },
 "nbformat": 4,
 "nbformat_minor": 5
}
