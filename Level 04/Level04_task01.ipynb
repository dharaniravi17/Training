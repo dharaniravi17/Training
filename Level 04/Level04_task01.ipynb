{
 "cells": [
  {
   "cell_type": "code",
   "execution_count": 1,
   "id": "29b1a78a-8e9b-4f0b-8ae0-01c4dd346285",
   "metadata": {},
   "outputs": [
    {
     "name": "stdout",
     "output_type": "stream",
     "text": [
      "         HOUSTNSA\n",
      "count  714.000000\n",
      "mean   119.454202\n",
      "std     38.812864\n",
      "min     31.900000\n",
      "25%     91.225000\n",
      "50%    119.300000\n",
      "75%    146.750000\n",
      "max    234.000000\n"
     ]
    }
   ],
   "source": [
    "import pandas as pd  \n",
    "\n",
    "df = pd.read_csv(\"C:\\\\Users\\\\Dharani Ravi\\\\anaconda3\\\\pkgs\\\\statsmodels-0.14.2-py312h4b0e54e_0\\\\Lib\\\\site-packages\\\\statsmodels\\\\tsa\\\\holtwinters\\\\tests\\\\results\\\\housing-data.csv\")   \n",
    "summary_stats = df.describe()  \n",
    "print(summary_stats)\n"
   ]
  },
  {
   "cell_type": "code",
   "execution_count": null,
   "id": "359bf7f3-b6ec-414c-9420-80d83ce14768",
   "metadata": {},
   "outputs": [],
   "source": []
  }
 ],
 "metadata": {
  "kernelspec": {
   "display_name": "Python 3 (ipykernel)",
   "language": "python",
   "name": "python3"
  },
  "language_info": {
   "codemirror_mode": {
    "name": "ipython",
    "version": 3
   },
   "file_extension": ".py",
   "mimetype": "text/x-python",
   "name": "python",
   "nbconvert_exporter": "python",
   "pygments_lexer": "ipython3",
   "version": "3.12.4"
  }
 },
 "nbformat": 4,
 "nbformat_minor": 5
}
