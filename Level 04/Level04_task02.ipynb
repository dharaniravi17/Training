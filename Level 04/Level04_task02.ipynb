{
 "cells": [
  {
   "cell_type": "code",
   "execution_count": 7,
   "id": "c2b6522e-f074-47f8-b172-888b33712f2e",
   "metadata": {},
   "outputs": [
    {
     "name": "stdout",
     "output_type": "stream",
     "text": [
      "PDF encrypted successfully! Saved as C:\\Users\\Dharani Ravi\\Downloads\\DHARANI_R_ARP[1].pdf\n"
     ]
    }
   ],
   "source": [
    "import PyPDF2  \n",
    "\n",
    "input_pdf = \"C:\\\\Users\\\\Dharani Ravi\\\\Downloads\\\\Coursera ZRGRTFE9J9C2.pdf\"\n",
    "output_pdf = \"C:\\\\Users\\\\Dharani Ravi\\\\Downloads\\\\DHARANI_R_ARP[1].pdf\"\n",
    "password = \"hello\" \n",
    "\n",
    "reader = PyPDF2.PdfReader(input_pdf)\n",
    "writer = PyPDF2.PdfWriter()\n",
    "\n",
    "for page in range(len(reader.pages)):\n",
    "    writer.add_page(reader.pages[page])\n",
    "\n",
    "writer.encrypt(password)\n",
    "with open(output_pdf, \"wb\") as output_file:\n",
    "    writer.write(output_file)\n",
    "\n",
    "print(f\"PDF encrypted successfully! Saved as {output_pdf}\")\n"
   ]
  },
  {
   "cell_type": "code",
   "execution_count": null,
   "id": "0b61e412-663d-4dec-ae74-476f903eb186",
   "metadata": {},
   "outputs": [],
   "source": []
  }
 ],
 "metadata": {
  "kernelspec": {
   "display_name": "Python 3 (ipykernel)",
   "language": "python",
   "name": "python3"
  },
  "language_info": {
   "codemirror_mode": {
    "name": "ipython",
    "version": 3
   },
   "file_extension": ".py",
   "mimetype": "text/x-python",
   "name": "python",
   "nbconvert_exporter": "python",
   "pygments_lexer": "ipython3",
   "version": "3.12.4"
  }
 },
 "nbformat": 4,
 "nbformat_minor": 5
}
