{
 "cells": [
  {
   "cell_type": "code",
   "execution_count": 14,
   "id": "b4cf0814-76cd-4004-844d-5398b904ae41",
   "metadata": {},
   "outputs": [
    {
     "name": "stdout",
     "output_type": "stream",
     "text": [
      "Dataset Sample:\n",
      "         Make    Model  Year  Mileage  EngineSize Transmission FuelType  Price\n",
      "0   Infiniti      Q50  2017    10000         2.5       Manual   Petrol  29000\n",
      "1    Hyundai   Sonata  2017    50000         5.0    Automatic   Hybrid  57000\n",
      "2    Hyundai  Elantra  2023    70000         1.4       Manual   Petrol  15000\n",
      "3  Chevrolet   Impala  2020    95000         1.4       Manual   Hybrid  49000\n",
      "4       Ford    Focus  2017    30000         3.6    Automatic   Diesel  33000\n",
      "\n",
      "Best Hyperparameters: {'max_depth': 10, 'min_samples_split': 2}\n",
      "\n",
      "Tuned Model Accuracy: 0.365\n",
      "Untuned Model Accuracy: 0.71\n",
      "\n",
      "🔹 Model Comparison:\n",
      "Untuned Accuracy: 0.7100\n",
      "Tuned Accuracy: 0.3650\n",
      "\n",
      "Tuning did not improve performance significantly. Try different hyperparameters.\n"
     ]
    }
   ],
   "source": [
    "import pandas as pd\n",
    "import numpy as np\n",
    "from sklearn.model_selection import train_test_split, GridSearchCV\n",
    "from sklearn.preprocessing import OneHotEncoder, LabelEncoder\n",
    "from sklearn.compose import ColumnTransformer\n",
    "from sklearn.tree import DecisionTreeClassifier\n",
    "from sklearn.metrics import accuracy_score\n",
    "\n",
    "df = pd.read_csv(\"C:\\\\Users\\\\Dharani Ravi\\\\Desktop\\\\ML projects\\\\carprice\\\\car_prices.csv\")  \n",
    "\n",
    "print(\"Dataset Sample:\\n\", df.head())\n",
    "X = df.drop(columns=['Model'])  \n",
    "y = df['Model']\n",
    "label_encoder = LabelEncoder()\n",
    "y = label_encoder.fit_transform(y) \n",
    "categorical_cols = X.select_dtypes(include=['object']).columns.tolist()\n",
    "\n",
    "encoder = ColumnTransformer(transformers=[('encoder', OneHotEncoder(), categorical_cols)], remainder='passthrough')\n",
    "\n",
    "X = encoder.fit_transform(X).toarray()\n",
    "X_train, X_test, y_train, y_test = train_test_split(X, y, test_size=0.2, random_state=42)\n",
    "\n",
    "param_grid = {\n",
    "    'max_depth': [3, 5, 10],  \n",
    "    'min_samples_split': [2, 5, 10]\n",
    "}\n",
    "dt = DecisionTreeClassifier(random_state=42)\n",
    "grid_search = GridSearchCV(dt, param_grid, cv=5, scoring='accuracy', n_jobs=-1)\n",
    "grid_search.fit(X_train, y_train)\n",
    "best_params = grid_search.best_params_\n",
    "print(\"\\nBest Hyperparameters:\", best_params)\n",
    "\n",
    "best_model = DecisionTreeClassifier(**best_params, random_state=42)\n",
    "best_model.fit(X_train, y_train)\n",
    "\n",
    "y_pred = best_model.predict(X_test)\n",
    "\n",
    "accuracy = accuracy_score(y_test, y_pred)\n",
    "print(\"\\nTuned Model Accuracy:\", accuracy)\n",
    "\n",
    "untuned_model = DecisionTreeClassifier(random_state=42)\n",
    "untuned_model.fit(X_train, y_train)\n",
    "y_pred_untuned = untuned_model.predict(X_test)\n",
    "\n",
    "untuned_accuracy = accuracy_score(y_test, y_pred_untuned)\n",
    "print(\"Untuned Model Accuracy:\", untuned_accuracy)\n",
    "print(\"\\n🔹 Model Comparison:\")\n",
    "print(f\"Untuned Accuracy: {untuned_accuracy:.4f}\")\n",
    "print(f\"Tuned Accuracy: {accuracy:.4f}\")\n",
    "\n",
    "if accuracy > untuned_accuracy:\n",
    "    print(\"\\nTuning improved the model, reducing overfitting and increasing generalization.\")\n",
    "else:\n",
    "    print(\"\\nTuning did not improve performance significantly. Try different hyperparameters.\")\n"
   ]
  },
  {
   "cell_type": "code",
   "execution_count": null,
   "id": "7bf4fbd8-6b40-45b3-9d94-7ac7c6144d3c",
   "metadata": {},
   "outputs": [],
   "source": []
  },
  {
   "cell_type": "code",
   "execution_count": null,
   "id": "3c852e77-b4dc-4683-9c27-0a1dc338cba3",
   "metadata": {},
   "outputs": [],
   "source": []
  }
 ],
 "metadata": {
  "kernelspec": {
   "display_name": "Python 3 (ipykernel)",
   "language": "python",
   "name": "python3"
  },
  "language_info": {
   "codemirror_mode": {
    "name": "ipython",
    "version": 3
   },
   "file_extension": ".py",
   "mimetype": "text/x-python",
   "name": "python",
   "nbconvert_exporter": "python",
   "pygments_lexer": "ipython3",
   "version": "3.12.4"
  }
 },
 "nbformat": 4,
 "nbformat_minor": 5
}
