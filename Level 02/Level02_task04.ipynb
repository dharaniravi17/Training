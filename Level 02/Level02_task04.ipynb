{
 "cells": [
  {
   "cell_type": "code",
   "execution_count": 1,
   "id": "6950f1e4-0586-4a18-904e-0978d70214cf",
   "metadata": {},
   "outputs": [
    {
     "name": "stdout",
     "output_type": "stream",
     "text": [
      "Even numbers [2, 4, 6]\n",
      "Cubed numbers [8, 27, 64, 125, 216, 343]\n"
     ]
    }
   ],
   "source": [
    "numbers = [2,3,4,5,6,7]\n",
    "even_numbers = list(filter(lambda x :x%2 == 0 , numbers))\n",
    "cubed_numbers = list(map(lambda x: x**3 , numbers))\n",
    "print(\"Even numbers\", even_numbers)\n",
    "print(\"Cubed numbers\",cubed_numbers)"
   ]
  },
  {
   "cell_type": "code",
   "execution_count": null,
   "id": "346203ca-13a3-42b0-a4bc-e358ad384363",
   "metadata": {},
   "outputs": [],
   "source": []
  }
 ],
 "metadata": {
  "kernelspec": {
   "display_name": "Python 3 (ipykernel)",
   "language": "python",
   "name": "python3"
  },
  "language_info": {
   "codemirror_mode": {
    "name": "ipython",
    "version": 3
   },
   "file_extension": ".py",
   "mimetype": "text/x-python",
   "name": "python",
   "nbconvert_exporter": "python",
   "pygments_lexer": "ipython3",
   "version": "3.12.4"
  }
 },
 "nbformat": 4,
 "nbformat_minor": 5
}
