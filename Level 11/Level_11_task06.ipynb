{
 "cells": [
  {
   "cell_type": "code",
   "execution_count": 5,
   "id": "7960f3c4-b568-4024-893e-c9d8b9384c93",
   "metadata": {},
   "outputs": [
    {
     "name": "stdout",
     "output_type": "stream",
     "text": [
      "Optimal Alpha: 1\n",
      "R² (Best Model): 0.5758185345441323\n",
      "MSE (Best Model): 0.555851200736751\n",
      "R² (Untuned Model): 0.5758185345441323\n",
      "MSE (Untuned Model): 0.555851200736751\n",
      "           Model        R²       MSE\n",
      "0    Tuned Model  0.575819  0.555851\n",
      "1  Untuned Model  0.575819  0.555851\n"
     ]
    }
   ],
   "source": [
    "import pandas as pd\n",
    "import numpy as np\n",
    "from sklearn.model_selection import train_test_split, GridSearchCV\n",
    "from sklearn.linear_model import Ridge\n",
    "from sklearn.preprocessing import StandardScaler\n",
    "from sklearn.metrics import mean_squared_error, r2_score\n",
    "from sklearn.datasets import fetch_california_housing \n",
    "\n",
    "california_housing = fetch_california_housing()\n",
    "\n",
    "df = pd.DataFrame(california_housing.data, columns=california_housing.feature_names)\n",
    "df['Target'] = california_housing.target\n",
    "\n",
    "X = df.drop(columns='Target')\n",
    "y = df['Target']\n",
    "scaler = StandardScaler()\n",
    "X_scaled = scaler.fit_transform(X)\n",
    "X_train, X_test, y_train, y_test = train_test_split(X_scaled, y, test_size=0.2, random_state=42)\n",
    "ridge = Ridge()\n",
    "param_grid = {'alpha': [0.01, 0.1, 1, 10]}\n",
    "grid_search = GridSearchCV(ridge, param_grid, cv=5, scoring='neg_mean_squared_error')\n",
    "grid_search.fit(X_train, y_train)\n",
    "best_alpha = grid_search.best_params_['alpha']\n",
    "print(f\"Optimal Alpha: {best_alpha}\")\n",
    "best_ridge = grid_search.best_estimator_\n",
    "best_ridge.fit(X_train, y_train)\n",
    "y_pred = best_ridge.predict(X_test)\n",
    "\n",
    "r2_best = r2_score(y_test, y_pred)\n",
    "mse_best = mean_squared_error(y_test, y_pred)\n",
    "print(f\"R² (Best Model): {r2_best}\")\n",
    "print(f\"MSE (Best Model): {mse_best}\")\n",
    "\n",
    "untuned_ridge = Ridge(alpha=1.0)\n",
    "untuned_ridge.fit(X_train, y_train)\n",
    "y_pred_untuned = untuned_ridge.predict(X_test)\n",
    "\n",
    "r2_untuned = r2_score(y_test, y_pred_untuned)\n",
    "mse_untuned = mean_squared_error(y_test, y_pred_untuned)\n",
    "print(f\"R² (Untuned Model): {r2_untuned}\")\n",
    "print(f\"MSE (Untuned Model): {mse_untuned}\")\n",
    "\n",
    "comparison_df = pd.DataFrame({\n",
    "    'Model': ['Tuned Model', 'Untuned Model'],\n",
    "    'R²': [r2_best, r2_untuned],\n",
    "    'MSE': [mse_best, mse_untuned]\n",
    "})\n",
    "print(comparison_df)\n"
   ]
  },
  {
   "cell_type": "code",
   "execution_count": null,
   "id": "3dc347c4-3bdd-4394-885b-9344bb7ca49c",
   "metadata": {},
   "outputs": [],
   "source": []
  }
 ],
 "metadata": {
  "kernelspec": {
   "display_name": "Python 3 (ipykernel)",
   "language": "python",
   "name": "python3"
  },
  "language_info": {
   "codemirror_mode": {
    "name": "ipython",
    "version": 3
   },
   "file_extension": ".py",
   "mimetype": "text/x-python",
   "name": "python",
   "nbconvert_exporter": "python",
   "pygments_lexer": "ipython3",
   "version": "3.12.4"
  }
 },
 "nbformat": 4,
 "nbformat_minor": 5
}
